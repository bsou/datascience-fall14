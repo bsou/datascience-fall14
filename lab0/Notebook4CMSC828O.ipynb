{
 "metadata": {
  "name": ""
 },
 "nbformat": 3,
 "nbformat_minor": 0,
 "worksheets": [
  {
   "cells": [
    {
     "cell_type": "code",
     "collapsed": false,
     "input": [
      "%matplotlib inline\n",
      "\n",
      "import matplotlib.pyplot as plt\n",
      "import numpy as np\n",
      "import pandas as pd"
     ],
     "language": "python",
     "metadata": {},
     "outputs": [],
     "prompt_number": 1
    },
    {
     "cell_type": "code",
     "collapsed": false,
     "input": [
      "plt.plot(fibonacci(15))"
     ],
     "language": "python",
     "metadata": {},
     "outputs": [
      {
       "ename": "NameError",
       "evalue": "name 'fibonacci' is not defined",
       "output_type": "pyerr",
       "traceback": [
        "\u001b[0;31m---------------------------------------------------------------------------\u001b[0m\n\u001b[0;31mNameError\u001b[0m                                 Traceback (most recent call last)",
        "\u001b[0;32m<ipython-input-2-776f946f788f>\u001b[0m in \u001b[0;36m<module>\u001b[0;34m()\u001b[0m\n\u001b[0;32m----> 1\u001b[0;31m \u001b[0mplt\u001b[0m\u001b[0;34m.\u001b[0m\u001b[0mplot\u001b[0m\u001b[0;34m(\u001b[0m\u001b[0mfibonacci\u001b[0m\u001b[0;34m(\u001b[0m\u001b[0;36m15\u001b[0m\u001b[0;34m)\u001b[0m\u001b[0;34m)\u001b[0m\u001b[0;34m\u001b[0m\u001b[0m\n\u001b[0m",
        "\u001b[0;31mNameError\u001b[0m: name 'fibonacci' is not defined"
       ]
      }
     ],
     "prompt_number": 2
    },
    {
     "cell_type": "code",
     "collapsed": false,
     "input": [
      "def fibonacci(sequence_length):\n",
      "    \"Return the Fibonacci sequence of length *sequence_length*\"\n",
      "    sequence = [0,1]\n",
      "    if sequence_length < 1:\n",
      "        print \"Fibonacci sequence only defined for length 1 or greater\"\n",
      "        return\n",
      "    if 0 < sequence_length < 3:\n",
      "        return sequence[:sequence_length]\n",
      "    for i in range(2,sequence_length): \n",
      "        sequence.append(sequence[i-1]+sequence[i-2])\n",
      "    return sequence"
     ],
     "language": "python",
     "metadata": {},
     "outputs": [],
     "prompt_number": 3
    },
    {
     "cell_type": "code",
     "collapsed": false,
     "input": [
      "help(fibonacci)\n"
     ],
     "language": "python",
     "metadata": {},
     "outputs": [
      {
       "output_type": "stream",
       "stream": "stdout",
       "text": [
        "Help on function fibonacci in module __main__:\n",
        "\n",
        "fibonacci(sequence_length)\n",
        "    Return the Fibonacci sequence of length *sequence_length*\n",
        "\n"
       ]
      }
     ],
     "prompt_number": 4
    },
    {
     "cell_type": "code",
     "collapsed": false,
     "input": [
      "plt.plot(fibonacci(15))"
     ],
     "language": "python",
     "metadata": {},
     "outputs": [
      {
       "metadata": {},
       "output_type": "pyout",
       "prompt_number": 5,
       "text": [
        "[<matplotlib.lines.Line2D at 0xb08fa28c>]"
       ]
      },
      {
       "metadata": {},
       "output_type": "display_data",
       "png": "[encoded data removed]",
       "text": [
        "<matplotlib.figure.Figure at 0xb09c95cc>"
       ]
      }
     ],
     "prompt_number": 5
    },
    {
     "cell_type": "code",
     "collapsed": false,
     "input": [
      "data = pd.read_csv('discoveries.csv')"
     ],
     "language": "python",
     "metadata": {},
     "outputs": [],
     "prompt_number": 6
    },
    {
     "cell_type": "code",
     "collapsed": false,
     "input": [
      "data[:10]\n"
     ],
     "language": "python",
     "metadata": {},
     "outputs": [
      {
       "html": [
        "<div style=\"max-height:1000px;max-width:1500px;overflow:auto;\">\n",
        "<table border=\"1\" class=\"dataframe\">\n",
        "  <thead>\n",
        "    <tr style=\"text-align: right;\">\n",
        "      <th></th>\n",
        "      <th>Unnamed: 0</th>\n",
        "      <th>time</th>\n",
        "      <th>discoveries</th>\n",
        "    </tr>\n",
        "  </thead>\n",
        "  <tbody>\n",
        "    <tr>\n",
        "      <th>0</th>\n",
        "      <td>  1</td>\n",
        "      <td> 1860</td>\n",
        "      <td> 5</td>\n",
        "    </tr>\n",
        "    <tr>\n",
        "      <th>1</th>\n",
        "      <td>  2</td>\n",
        "      <td> 1861</td>\n",
        "      <td> 3</td>\n",
        "    </tr>\n",
        "    <tr>\n",
        "      <th>2</th>\n",
        "      <td>  3</td>\n",
        "      <td> 1862</td>\n",
        "      <td> 0</td>\n",
        "    </tr>\n",
        "    <tr>\n",
        "      <th>3</th>\n",
        "      <td>  4</td>\n",
        "      <td> 1863</td>\n",
        "      <td> 2</td>\n",
        "    </tr>\n",
        "    <tr>\n",
        "      <th>4</th>\n",
        "      <td>  5</td>\n",
        "      <td> 1864</td>\n",
        "      <td> 0</td>\n",
        "    </tr>\n",
        "    <tr>\n",
        "      <th>5</th>\n",
        "      <td>  6</td>\n",
        "      <td> 1865</td>\n",
        "      <td> 3</td>\n",
        "    </tr>\n",
        "    <tr>\n",
        "      <th>6</th>\n",
        "      <td>  7</td>\n",
        "      <td> 1866</td>\n",
        "      <td> 2</td>\n",
        "    </tr>\n",
        "    <tr>\n",
        "      <th>7</th>\n",
        "      <td>  8</td>\n",
        "      <td> 1867</td>\n",
        "      <td> 3</td>\n",
        "    </tr>\n",
        "    <tr>\n",
        "      <th>8</th>\n",
        "      <td>  9</td>\n",
        "      <td> 1868</td>\n",
        "      <td> 6</td>\n",
        "    </tr>\n",
        "    <tr>\n",
        "      <th>9</th>\n",
        "      <td> 10</td>\n",
        "      <td> 1869</td>\n",
        "      <td> 1</td>\n",
        "    </tr>\n",
        "  </tbody>\n",
        "</table>\n",
        "<p>10 rows \u00d7 3 columns</p>\n",
        "</div>"
       ],
       "metadata": {},
       "output_type": "pyout",
       "prompt_number": 7,
       "text": [
        "   Unnamed: 0  time  discoveries\n",
        "0           1  1860            5\n",
        "1           2  1861            3\n",
        "2           3  1862            0\n",
        "3           4  1863            2\n",
        "4           5  1864            0\n",
        "5           6  1865            3\n",
        "6           7  1866            2\n",
        "7           8  1867            3\n",
        "8           9  1868            6\n",
        "9          10  1869            1\n",
        "\n",
        "[10 rows x 3 columns]"
       ]
      }
     ],
     "prompt_number": 7
    },
    {
     "cell_type": "code",
     "collapsed": false,
     "input": [
      "data.dtypes"
     ],
     "language": "python",
     "metadata": {},
     "outputs": [
      {
       "metadata": {},
       "output_type": "pyout",
       "prompt_number": 8,
       "text": [
        "Unnamed: 0     int64\n",
        "time           int64\n",
        "discoveries    int64\n",
        "dtype: object"
       ]
      }
     ],
     "prompt_number": 8
    },
    {
     "cell_type": "code",
     "collapsed": false,
     "input": [
      "print(open('discoveries.csv').read())"
     ],
     "language": "python",
     "metadata": {},
     "outputs": [
      {
       "output_type": "stream",
       "stream": "stdout",
       "text": [
        "\"\",\"time\",\"discoveries\"\n",
        "\"1\",1860,5\n",
        "\"2\",1861,3\n",
        "\"3\",1862,0\n",
        "\"4\",1863,2\n",
        "\"5\",1864,0\n",
        "\"6\",1865,3\n",
        "\"7\",1866,2\n",
        "\"8\",1867,3\n",
        "\"9\",1868,6\n",
        "\"10\",1869,1\n",
        "\"11\",1870,2\n",
        "\"12\",1871,1\n",
        "\"13\",1872,2\n",
        "\"14\",1873,1\n",
        "\"15\",1874,3\n",
        "\"16\",1875,3\n",
        "\"17\",1876,3\n",
        "\"18\",1877,5\n",
        "\"19\",1878,2\n",
        "\"20\",1879,4\n",
        "\"21\",1880,4\n",
        "\"22\",1881,0\n",
        "\"23\",1882,2\n",
        "\"24\",1883,3\n",
        "\"25\",1884,7\n",
        "\"26\",1885,12\n",
        "\"27\",1886,3\n",
        "\"28\",1887,10\n",
        "\"29\",1888,9\n",
        "\"30\",1889,2\n",
        "\"31\",1890,3\n",
        "\"32\",1891,7\n",
        "\"33\",1892,7\n",
        "\"34\",1893,2\n",
        "\"35\",1894,3\n",
        "\"36\",1895,3\n",
        "\"37\",1896,6\n",
        "\"38\",1897,2\n",
        "\"39\",1898,4\n",
        "\"40\",1899,3\n",
        "\"41\",1900,5\n",
        "\"42\",1901,2\n",
        "\"43\",1902,2\n",
        "\"44\",1903,4\n",
        "\"45\",1904,0\n",
        "\"46\",1905,4\n",
        "\"47\",1906,2\n",
        "\"48\",1907,5\n",
        "\"49\",1908,2\n",
        "\"50\",1909,3\n",
        "\"51\",1910,3\n",
        "\"52\",1911,6\n",
        "\"53\",1912,5\n",
        "\"54\",1913,8\n",
        "\"55\",1914,3\n",
        "\"56\",1915,6\n",
        "\"57\",1916,6\n",
        "\"58\",1917,0\n",
        "\"59\",1918,5\n",
        "\"60\",1919,2\n",
        "\"61\",1920,2\n",
        "\"62\",1921,2\n",
        "\"63\",1922,6\n",
        "\"64\",1923,3\n",
        "\"65\",1924,4\n",
        "\"66\",1925,4\n",
        "\"67\",1926,2\n",
        "\"68\",1927,2\n",
        "\"69\",1928,4\n",
        "\"70\",1929,7\n",
        "\"71\",1930,5\n",
        "\"72\",1931,3\n",
        "\"73\",1932,3\n",
        "\"74\",1933,0\n",
        "\"75\",1934,2\n",
        "\"76\",1935,2\n",
        "\"77\",1936,2\n",
        "\"78\",1937,1\n",
        "\"79\",1938,3\n",
        "\"80\",1939,4\n",
        "\"81\",1940,2\n",
        "\"82\",1941,2\n",
        "\"83\",1942,1\n",
        "\"84\",1943,1\n",
        "\"85\",1944,1\n",
        "\"86\",1945,2\n",
        "\"87\",1946,1\n",
        "\"88\",1947,4\n",
        "\"89\",1948,4\n",
        "\"90\",1949,3\n",
        "\"91\",1950,2\n",
        "\"92\",1951,1\n",
        "\"93\",1952,4\n",
        "\"94\",1953,1\n",
        "\"95\",1954,1\n",
        "\"96\",1955,1\n",
        "\"97\",1956,0\n",
        "\"98\",1957,0\n",
        "\"99\",1958,2\n",
        "\"100\",1959,0\n",
        "\n"
       ]
      }
     ],
     "prompt_number": 9
    },
    {
     "cell_type": "code",
     "collapsed": false,
     "input": [
      "plt.bar(data['time'], data['discoveries'])"
     ],
     "language": "python",
     "metadata": {},
     "outputs": [
      {
       "metadata": {},
       "output_type": "pyout",
       "prompt_number": 10,
       "text": [
        "<Container object of 100 artists>"
       ]
      },
      {
       "metadata": {},
       "output_type": "display_data",
       "png": "[encoded data removed]",
       "text": [
        "<matplotlib.figure.Figure at 0xb0e833cc>"
       ]
      }
     ],
     "prompt_number": 10
    },
    {
     "cell_type": "code",
     "collapsed": false,
     "input": [],
     "language": "python",
     "metadata": {},
     "outputs": []
    }
   ],
   "metadata": {}
  }
 ]
}